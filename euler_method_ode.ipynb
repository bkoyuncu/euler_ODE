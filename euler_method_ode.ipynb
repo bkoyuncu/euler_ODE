{
 "cells": [
  {
   "cell_type": "markdown",
   "metadata": {},
   "source": [
    "# Tutorial and example about approx. ODE with Euler Method"
   ]
  },
  {
   "cell_type": "code",
   "execution_count": 18,
   "metadata": {
    "collapsed": true
   },
   "outputs": [],
   "source": [
    "import numpy as np\n",
    "import math"
   ]
  },
  {
   "cell_type": "markdown",
   "metadata": {},
   "source": [
    "- __define__ $f=(t,y)$\n",
    "- __input__ $t_{0}$ and $y_{0}$\n",
    "- __input__ step size, $h$ and number of steps $n$\n",
    "- __for__ $j$ from 1 to $n$:\n",
    "    - $m=f(t_{0},y_{0})$\n",
    "    - $y_{1}$ = $y_{0}+h*m$\n",
    "    - $t_{1}=t_{0}+h$\n",
    "    - Print $t_{1}$ and $y_{1}$\n",
    "    - $t_{0}=t_{1}$\n",
    "    - $y_{0}=y_{1}$\n"
   ]
  },
  {
   "cell_type": "code",
   "execution_count": 84,
   "metadata": {},
   "outputs": [],
   "source": [
    "def euler(givenfunction,t0,y0,h,n,i):\n",
    "    m=givenfunction(t0,y0)\n",
    "    y1=y0+h*m\n",
    "    t1=t0+h\n",
    "    i=i+1\n",
    "    if i==n:\n",
    "        print('t= %.2f'%t1,'approx= %.6f'%y1)\n",
    "        times.append(round(t1,2))\n",
    "        results.append(round(y1,5))\n",
    "        return (t1,y1)\n",
    "    else:\n",
    "        print('t= %.2f'%t1,'approx= %.6f'%y1)\n",
    "        times.append(round(t1,2))\n",
    "        results.append(round(y1,5))\n",
    "        return euler(givenfunction,t1,y1,h,n,i)\n",
    "    "
   ]
  },
  {
   "cell_type": "markdown",
   "metadata": {},
   "source": [
    "For the given equation and initial condition\n",
    "\\begin{equation}\n",
    "y^{\\prime}+2 y=2-\\mathbf{e}^{-4 t} \\quad y(0)=1\n",
    "\\end{equation}\n",
    "Pick a $h$ and values of $t$,"
   ]
  },
  {
   "cell_type": "code",
   "execution_count": 85,
   "metadata": {
    "collapsed": true
   },
   "outputs": [],
   "source": [
    "def func(t,y):\n",
    "    y_prime = 2-math.exp(-4*t)-2*y\n",
    "    return y_prime"
   ]
  },
  {
   "cell_type": "code",
   "execution_count": 91,
   "metadata": {},
   "outputs": [],
   "source": [
    "h=0.1\n",
    "t0=0\n",
    "y0=1\n",
    "n=50\n",
    "times=[t0]\n",
    "results=[y0]\n"
   ]
  },
  {
   "cell_type": "code",
   "execution_count": 92,
   "metadata": {},
   "outputs": [
    {
     "name": "stdout",
     "output_type": "stream",
     "text": [
      "t= 0.10 approx= 0.900000\n",
      "t= 0.20 approx= 0.852968\n",
      "t= 0.30 approx= 0.837441\n",
      "t= 0.40 approx= 0.839834\n",
      "t= 0.50 approx= 0.851677\n",
      "t= 0.60 approx= 0.867808\n",
      "t= 0.70 approx= 0.885175\n",
      "t= 0.80 approx= 0.902059\n",
      "t= 0.90 approx= 0.917571\n",
      "t= 1.00 approx= 0.931324\n",
      "t= 1.10 approx= 0.943228\n",
      "t= 1.20 approx= 0.953355\n",
      "t= 1.30 approx= 0.961861\n",
      "t= 1.40 approx= 0.968937\n",
      "t= 1.50 approx= 0.974780\n",
      "t= 1.60 approx= 0.979576\n",
      "t= 1.70 approx= 0.983495\n",
      "t= 1.80 approx= 0.986684\n",
      "t= 1.90 approx= 0.989273\n",
      "t= 2.00 approx= 0.991368\n",
      "t= 2.10 approx= 0.993061\n",
      "t= 2.20 approx= 0.994426\n",
      "t= 2.30 approx= 0.995526\n",
      "t= 2.40 approx= 0.996411\n",
      "t= 2.50 approx= 0.997122\n",
      "t= 2.60 approx= 0.997693\n",
      "t= 2.70 approx= 0.998151\n",
      "t= 2.80 approx= 0.998519\n",
      "t= 2.90 approx= 0.998814\n",
      "t= 3.00 approx= 0.999050\n",
      "t= 3.10 approx= 0.999239\n",
      "t= 3.20 approx= 0.999391\n",
      "t= 3.30 approx= 0.999513\n",
      "t= 3.40 approx= 0.999610\n",
      "t= 3.50 approx= 0.999688\n",
      "t= 3.60 approx= 0.999750\n",
      "t= 3.70 approx= 0.999800\n",
      "t= 3.80 approx= 0.999840\n",
      "t= 3.90 approx= 0.999872\n",
      "t= 4.00 approx= 0.999898\n",
      "t= 4.10 approx= 0.999918\n",
      "t= 4.20 approx= 0.999934\n",
      "t= 4.30 approx= 0.999948\n",
      "t= 4.40 approx= 0.999958\n",
      "t= 4.50 approx= 0.999966\n",
      "t= 4.60 approx= 0.999973\n",
      "t= 4.70 approx= 0.999979\n",
      "t= 4.80 approx= 0.999983\n",
      "t= 4.90 approx= 0.999986\n"
     ]
    }
   ],
   "source": [
    "x=euler(func,t0,y0,h,n,i=1)"
   ]
  },
  {
   "cell_type": "markdown",
   "metadata": {},
   "source": [
    "Analytical solution\n",
    "\\begin{equation}\n",
    "y(t)=1+\\frac{1}{2} \\mathbf{e}^{-4 t}-\\frac{1}{2} \\mathbf{e}^{-2 t}\n",
    "\\end{equation}"
   ]
  },
  {
   "cell_type": "code",
   "execution_count": 93,
   "metadata": {
    "collapsed": true
   },
   "outputs": [],
   "source": [
    "def solution(t):\n",
    "    y=1+0.5*math.exp(-4*t)-0.5*math.exp(-2*t)\n",
    "    return y\n"
   ]
  },
  {
   "cell_type": "code",
   "execution_count": 94,
   "metadata": {
    "collapsed": true
   },
   "outputs": [],
   "source": [
    "a_results=[]\n",
    "time_list=np.arange(0,0.6,0.01)\n",
    "for t in time_list:\n",
    "    a_results.append(solution(t))\n",
    "    \n",
    "    "
   ]
  },
  {
   "cell_type": "code",
   "execution_count": null,
   "metadata": {},
   "outputs": [],
   "source": []
  },
  {
   "cell_type": "code",
   "execution_count": 97,
   "metadata": {},
   "outputs": [
    {
     "data": {
      "image/png": "[encoded data removed]",
      "text/plain": [
       "<Figure size 432x288 with 1 Axes>"
      ]
     },
     "metadata": {
      "needs_background": "light"
     },
     "output_type": "display_data"
    }
   ],
   "source": [
    "import numpy as np\n",
    "import matplotlib.pyplot as plt\n",
    "\n",
    "def f(t):\n",
    "    y=1+0.5*np.exp(-4*t)-0.5*np.exp(-2*t)\n",
    "    return y\n",
    "\n",
    "t2 = np.arange(0.0, 6.0, 0.02)\n",
    "\n",
    "plt.figure(1)\n",
    "plt.plot(times,results,'bo',t2, f(t2), 'k')\n",
    "plt.show()\n"
   ]
  },
  {
   "cell_type": "markdown",
   "metadata": {},
   "source": [
    "Blue dots are numerical approximations with Euler Method"
   ]
  },
  {
   "cell_type": "code",
   "execution_count": null,
   "metadata": {
    "collapsed": true
   },
   "outputs": [],
   "source": []
  }
 ],
 "metadata": {
  "kernelspec": {
   "display_name": "Python [conda env:tensorflow_env]",
   "language": "python",
   "name": "conda-env-tensorflow_env-py"
  },
  "language_info": {
   "codemirror_mode": {
    "name": "ipython",
    "version": 3
   },
   "file_extension": ".py",
   "mimetype": "text/x-python",
   "name": "python",
   "nbconvert_exporter": "python",
   "pygments_lexer": "ipython3",
   "version": "3.6.7"
  }
 },
 "nbformat": 4,
 "nbformat_minor": 2
}
